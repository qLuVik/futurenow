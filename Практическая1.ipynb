{
  "nbformat": 4,
  "nbformat_minor": 0,
  "metadata": {
    "colab": {
      "name": "Практическая 1",
      "provenance": [],
      "authorship_tag": "ABX9TyOyd8dyK6IGUETvIf7p6MvO",
      "include_colab_link": true
    },
    "kernelspec": {
      "name": "python3",
      "display_name": "Python 3"
    },
    "language_info": {
      "name": "python"
    }
  },
  "cells": [
    {
      "cell_type": "markdown",
      "metadata": {
        "id": "view-in-github",
        "colab_type": "text"
      },
      "source": [
        "<a href=\"https://colab.research.google.com/github/qLuVik/futurenow/blob/main/%D0%9F%D1%80%D0%B0%D0%BA%D1%82%D0%B8%D1%87%D0%B5%D1%81%D0%BA%D0%B0%D1%8F1.ipynb\" target=\"_parent\"><img src=\"https://colab.research.google.com/assets/colab-badge.svg\" alt=\"Open In Colab\"/></a>"
      ]
    },
    {
      "cell_type": "code",
      "metadata": {
        "colab": {
          "base_uri": "https://localhost:8080/"
        },
        "id": "GEWnzYbIoesO",
        "outputId": "a30754da-3386-4656-ad1c-9523012c5cc9"
      },
      "source": [
        "#1\n",
        "class First:\n",
        "  color = \"red\"\n",
        "  def out(self):\n",
        "    print(self.color + \"!\")\n",
        "\n",
        "obj1 = First()    \n",
        "obj2 = First()\n",
        "print(obj1.color)\n",
        "print(obj2.color)\n",
        "obj1.out()\n",
        "obj2.out()"
      ],
      "execution_count": null,
      "outputs": [
        {
          "output_type": "stream",
          "name": "stdout",
          "text": [
            "red\n",
            "red\n",
            "red!\n",
            "red!\n"
          ]
        }
      ]
    },
    {
      "cell_type": "code",
      "metadata": {
        "colab": {
          "base_uri": "https://localhost:8080/"
        },
        "id": "YrUrca9MpItC",
        "outputId": "036efd10-1a02-442a-9041-8a8e6de42518"
      },
      "source": [
        "class Second:\n",
        "  color = \"red\"\n",
        "  form = \"circle\"\n",
        "  volume = \"2D\"\n",
        "  def changecolor(self,newcolor):\n",
        "    self.color = newcolor\n",
        "  def changeform(self,newform):\n",
        "    self.form = newform\n",
        "  def changevolume(self,newvolume):\n",
        "    self.volume = newvolume  \n",
        "\n",
        "obj1 = Second()\n",
        "obj2 = Second()\n",
        "obj3 = Second()\n",
        "\n",
        "print(obj1.color, obj1.form, obj1.volume)\n",
        "print(obj2.color, obj2.form, obj2.volume)\n",
        "print(obj3.color, obj3.form, obj3.volume)\n",
        "\n",
        "obj1.changecolor(\"green\")\n",
        "obj2.changecolor(\"blue\")\n",
        "obj2.changeform(\"oval\")\n",
        "obj3.changecolor(\"yellow\")\n",
        "obj3.changeform(\"triangle\")\n",
        "obj3.changevolume(\"3D\")\n",
        "\n",
        "print(obj1.color,obj1.form, obj1.volume)\n",
        "print(obj2.color,obj2.form, obj2.volume)\n",
        "print(obj3.color,obj3.form, obj3.volume)"
      ],
      "execution_count": null,
      "outputs": [
        {
          "output_type": "stream",
          "name": "stdout",
          "text": [
            "red circle 2D\n",
            "red circle 2D\n",
            "red circle 2D\n",
            "green circle 2D\n",
            "blue oval 2D\n",
            "yellow triangle 3D\n"
          ]
        }
      ]
    },
    {
      "cell_type": "code",
      "metadata": {
        "colab": {
          "base_uri": "https://localhost:8080/"
        },
        "id": "y8oxZEbqj9qD",
        "outputId": "6066a914-8fc1-4b00-de3f-ab0a3ff0eff3"
      },
      "source": [
        "class Grass:\n",
        "  def __init__(self,color):\n",
        "    self.color = color\n",
        "class Cow:\n",
        "  def __init__(self,name):\n",
        "    self.name = name\n",
        "  def eat(self, col):\n",
        "    self.col = col\n",
        "    print(\"Корова по кличке {} ест траву цвета {}\".format(self.name,self.col))  \n",
        "obj1 = Cow(\"Сусанна\")    \n",
        "obj2 = Grass(\"зелёный\")\n",
        "obj1.eat(obj2.color)"
      ],
      "execution_count": null,
      "outputs": [
        {
          "output_type": "stream",
          "name": "stdout",
          "text": [
            "Корова по кличке Сусанна ест траву цвета зелёный\n"
          ]
        }
      ]
    },
    {
      "cell_type": "code",
      "metadata": {
        "colab": {
          "base_uri": "https://localhost:8080/"
        },
        "id": "u6JTB7d81fDF",
        "outputId": "c69d7946-ec03-4425-864b-4b1897c165a4"
      },
      "source": [
        "#3\n",
        "class YesInit:\n",
        "  def __init__(self,one,two):\n",
        "    self.fname = one\n",
        "    self.sname = two\n",
        "obj1 = YesInit(\"Peter\",\"Ok\")\n",
        "\n",
        "print(obj1.fname,obj1.sname)\n",
        "class NoInit:\n",
        "  def names(self,one,two):\n",
        "    self.fname = one\n",
        "    self.sname = two\n",
        "objl = NoInit()    \n",
        "objl.names(\"Peter\",\"Ok\")\n",
        "print(objl.fname,objl.sname)"
      ],
      "execution_count": null,
      "outputs": [
        {
          "output_type": "stream",
          "name": "stdout",
          "text": [
            "Peter Ok\n",
            "Peter Ok\n"
          ]
        }
      ]
    },
    {
      "cell_type": "code",
      "source": [
        "#4\n",
        "class YesInit:\n",
        "  def __init__(self,one=\"noname\",two=\"nonametoo\"):\n",
        "    self.fname = one\n",
        "    self.sname = two\n",
        "obj1 = YesInit(\"Sasha\",\"Tu\")\n",
        "obj2 = YesInit()\n",
        "obj3 = YesInit(\"Spartak\")\n",
        "obj4 = YesInit(two=\"Harry\")\n",
        "print(obj1.fname, obj1.sname)\n",
        "print(obj2.fname, obj2.sname)\n",
        "print(obj3.fname, obj3.sname)\n",
        "print(obj4.fname, obj4.sname)"
      ],
      "metadata": {
        "colab": {
          "base_uri": "https://localhost:8080/"
        },
        "id": "xyxghLbS4Llv",
        "outputId": "044d6991-5679-4f39-ccb5-2112edf29afb"
      },
      "execution_count": 1,
      "outputs": [
        {
          "output_type": "stream",
          "name": "stdout",
          "text": [
            "Sasha Tu\n",
            "noname nonametoo\n",
            "Spartak nonametoo\n",
            "noname Harry\n"
          ]
        }
      ]
    },
    {
      "cell_type": "code",
      "metadata": {
        "colab": {
          "base_uri": "https://localhost:8080/"
        },
        "id": "9JlDhuV12hGy",
        "outputId": "01422921-7c43-4e65-ab93-a0f00ee7c91a"
      },
      "source": [
        "#5\n",
        "class Fruits:\n",
        "  def __init__(self,w,n=0):\n",
        "    self.what = w\n",
        "    self.numbers = n\n",
        "f1 = Fruits(\"apple\",150)    \n",
        "f2 = Fruits(\"pineapple\")\n",
        "print(f1.what,f1.numbers)\n",
        "print(f2.what,f2.numbers)\n",
        "#class Fruits:\n",
        "#  def __init__(self,n=0,w): #ERROR\n",
        "#    self.what = w\n",
        "#    self.numbers = n\n",
        "#f1 = Fruits(150,\"apple\")    \n",
        "#f2 = Fruits(\"pineapple\")\n",
        "#print(f1.what,f1.numbers)\n",
        "#print(f2.what,f2.numbers)"
      ],
      "execution_count": null,
      "outputs": [
        {
          "output_type": "stream",
          "name": "stdout",
          "text": [
            "apple 150\n",
            "pineapple 0\n"
          ]
        }
      ]
    },
    {
      "cell_type": "code",
      "metadata": {
        "id": "Z0xJU3Qz3lvu",
        "colab": {
          "base_uri": "https://localhost:8080/"
        },
        "outputId": "84c61194-b04a-4587-e9dc-d7b287de5547"
      },
      "source": [
        "#6\n",
        "class Building: #класс\n",
        "  def __init__(self,w,c,n=0): #конструктор класса\n",
        "    self.what = w\n",
        "    self.color = c\n",
        "    self.numbers = n\n",
        "    self.mwhere(n)\n",
        " #выводим в отдельную функцию, чтобы\n",
        "  def mwhere(self,n): #метод определения наличия на скаладе || создается атрибут where объектов\n",
        "    if n <=0:\n",
        "      self.where = \"отсутствуют\"\n",
        "    elif 0 < n < 100:\n",
        "      self.where = \"малый склад\"\n",
        "    else:\n",
        "      self.where = \"основной склад\"\n",
        "\n",
        "  def plus(self,p): #метод добавления кол-ва предметов на склад\n",
        "    self.numbers = self.numbers + p\n",
        "    self.mwhere(self.numbers)\n",
        "  def minus(self,m):          #метод убавления кол-ва предметов со склада\n",
        "    self.numbers = self.numbers - m\n",
        "    self.mwhere(self.numbers)\n",
        "\n",
        "#объекты\n",
        "m1 = Building(\"доски\", \"белые\", 50)\n",
        "m2 = Building(\"доски\", \"коричневые\", 300)\n",
        "m3 = Building(\"кирпичи\", \"белые\")\n",
        "\n",
        "print(m1.what,m1.color,m1.where)\n",
        "print(m2.what,m2.color,m2.where)\n",
        "print(m3.what,m3.color,m3.where)\n",
        "\n",
        "m1.plus(500)\n",
        "print(m1.numbers, m1.where)"
      ],
      "execution_count": null,
      "outputs": [
        {
          "output_type": "stream",
          "name": "stdout",
          "text": [
            "доски белые малый склад\n",
            "доски коричневые основной склад\n",
            "кирпичи белые отсутствуют\n",
            "550 основной склад\n"
          ]
        }
      ]
    },
    {
      "cell_type": "code",
      "metadata": {
        "colab": {
          "base_uri": "https://localhost:8080/"
        },
        "id": "LHLzageGIdQv",
        "outputId": "59add281-9edb-4e11-95c1-a6aec8213628"
      },
      "source": [
        "class Books:\n",
        "  def __init__(self,n,a,p):\n",
        "    self.name = n\n",
        "    self.autor = a\n",
        "    self.pages = p\n",
        "t1 = Books(\"Кому на Руси жить хорошо\", \"Николай Некрасов\", 391)\n",
        "t2 = Books(\"Преступление и наказание\", \"Федор Достоевский\", 570)    \n",
        "print(\"Название книги: {} \\nАвтор книги: {} \\nКол-во страниц: {}\".format(t1.name,t1.autor,t1.pages))\n",
        "print(\"Название книги: {} \\nАвтор книги: {} \\nКол-во страниц: {}\".format(t2.name,t2.autor,t2.pages))"
      ],
      "execution_count": null,
      "outputs": [
        {
          "output_type": "stream",
          "name": "stdout",
          "text": [
            "Название книги: Кому на Руси жить хорошо \n",
            "Автор книги: Николай Некрасов \n",
            "Кол-во страниц: 391\n",
            "Название книги: Преступление и наказание \n",
            "Автор книги: Федор Достоевский \n",
            "Кол-во страниц: 570\n"
          ]
        }
      ]
    },
    {
      "cell_type": "code",
      "metadata": {
        "colab": {
          "base_uri": "https://localhost:8080/"
        },
        "id": "mWqxi_7PJxtX",
        "outputId": "54105bb7-fd79-41c2-9baf-7178f96d5938"
      },
      "source": [
        "class Things:\n",
        "  def __init__(self,n,t,c=\"\"):\n",
        "    self.namething = n\n",
        "    self.total = t\n",
        "    self.color = c\n",
        "th1 = Things(\"table\",5)\n",
        "th2 = Things(\"computer\",7)\n",
        "print(th1.namething,th1.total)\n",
        "print(th2.namething,th2.total)    \n",
        "th1.color = \"green\"\n",
        "print(th1.color)\n",
        "print(th2.color)"
      ],
      "execution_count": null,
      "outputs": [
        {
          "output_type": "stream",
          "name": "stdout",
          "text": [
            "table 5\n",
            "computer 7\n",
            "green\n",
            "\n"
          ]
        }
      ]
    },
    {
      "cell_type": "code",
      "metadata": {
        "colab": {
          "base_uri": "https://localhost:8080/"
        },
        "id": "9RPpmRfPM9xi",
        "outputId": "c76a5ba9-6810-428f-db4e-c87f2a143398"
      },
      "source": [
        "class Table:\n",
        "  def __init__(self, l,w,h):# инициализация конструктора для класа табле в котором три параметра\n",
        "    self.long = l   \n",
        "    self.width = w\n",
        "    self.height = h\n",
        "  def outing(self):\n",
        "    print(self.long,self.width,self.height)\n",
        "class Kitchen(Table):\n",
        "  def howplaces(self,n):\n",
        "    if n < 2:\n",
        "      print(\"Это не кухонный стол\")\n",
        "    else:\n",
        "      self.places = n  \n",
        "  def outplaces(self):\n",
        "    print(self.places)\n",
        "class DeskTable(Table):\n",
        "  def square(self):\n",
        "    return self.width * self.long\n",
        "  def color(self,c):\n",
        "    self.color = c \n",
        "    return print(\"Этот стол {}\".format(self.color))\n",
        "\n",
        "t_room1 = Kitchen(2,1,0.5)\n",
        "t_room1.outing()\n",
        "t_room1.howplaces(5)\n",
        "t_room1.outplaces()\n",
        "\n",
        "t_2 = Table(1,3,0.7)\n",
        "t_2.outing()\n",
        "\n",
        "t_3 = DeskTable(3,6,0.6)\n",
        "t_3.outing()\n",
        "t_3.square()\n",
        "t_3.color(\"красный\")\n",
        "#t_2.howplaces(8)"
      ],
      "execution_count": null,
      "outputs": [
        {
          "output_type": "stream",
          "name": "stdout",
          "text": [
            "2 1 0.5\n",
            "5\n",
            "1 3 0.7\n",
            "3 6 0.6\n",
            "Этот стол красный\n"
          ]
        }
      ]
    },
    {
      "cell_type": "code",
      "metadata": {
        "colab": {
          "base_uri": "https://localhost:8080/"
        },
        "id": "cALy1xxfbTbc",
        "outputId": "ead2ec60-bb9c-41a6-cb81-a49a50404e4a"
      },
      "source": [
        "class Figure:\n",
        "  def __init__(self):\n",
        "    self.color = \"Белый\"\n",
        "\n",
        "  def changecolor(self,color):\n",
        "    self.color = color  \n",
        "    return self.color\n",
        "\n",
        "class Oval(Figure):\n",
        "  def __init__(self,s,color):\n",
        "    Figure.__init__(self)\n",
        "    self.square = s\n",
        "\n",
        "class Square(Figure):\n",
        "  def __init__(self,s,color):\n",
        "    Figure.__init__(self)\n",
        "    self.square = s\n",
        "\n",
        "f1 = Oval(13,\"\")\n",
        "f1.changecolor(\"Красный\")\n",
        "print(\"{} овал имеет площадь равную {}\".format(f1.color,f1.square))\n",
        "f2 = Square(16, \"\")\n",
        "print(\"{} квадрат имеет площадь равную {}\".format(f2.color,f2.square))"
      ],
      "execution_count": null,
      "outputs": [
        {
          "output_type": "stream",
          "name": "stdout",
          "text": [
            "Красный овал имеет площадь равную 13\n",
            "Белый квадрат имеет площадь равную 16\n"
          ]
        }
      ]
    }
  ]
}