{
  "nbformat": 4,
  "nbformat_minor": 0,
  "metadata": {
    "colab": {
      "name": "Практическая 4",
      "provenance": [],
      "authorship_tag": "ABX9TyPLHfKKU3yXgFfiHZEazq6M",
      "include_colab_link": true
    },
    "kernelspec": {
      "name": "python3",
      "display_name": "Python 3"
    },
    "language_info": {
      "name": "python"
    }
  },
  "cells": [
    {
      "cell_type": "markdown",
      "metadata": {
        "id": "view-in-github",
        "colab_type": "text"
      },
      "source": [
        "<a href=\"https://colab.research.google.com/github/qLuVik/futurenow/blob/main/%D0%9F%D1%80%D0%B0%D0%BA%D1%82%D0%B8%D1%87%D0%B5%D1%81%D0%BA%D0%B0%D1%8F_4.ipynb\" target=\"_parent\"><img src=\"https://colab.research.google.com/assets/colab-badge.svg\" alt=\"Open In Colab\"/></a>"
      ]
    },
    {
      "cell_type": "markdown",
      "metadata": {
        "id": "yDAvl16GRWci"
      },
      "source": [
        "![image.png](data:image/png;base64,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)"
      ]
    },
    {
      "cell_type": "code",
      "metadata": {
        "id": "3vD6jIh_hubS",
        "colab": {
          "base_uri": "https://localhost:8080/"
        },
        "outputId": "02a46746-441f-4fc8-efb0-4987c016fea6"
      },
      "source": [
        "class Izdanie:\n",
        "  def __init__(self,name,data_release,autor,izdanie = 'Crystall'):\n",
        "    self.name = name\n",
        "    self.release = data_release\n",
        "    self.autor = autor\n",
        "    self.izdanie = izdanie\n",
        "  def presentation(self):\n",
        "    print('А вот и продукция нашего издания {}'.format(self.izdanie))\n",
        "\n",
        "class Magazine(Izdanie):\n",
        "  def details(self,topic,star):\n",
        "    self.topic = topic\n",
        "    self.star = star\n",
        "    print('Тема выпуска: {} Лицо журнала: {}'.format(self.topic,self.star))\n",
        "  def reading(self,evaluation):\n",
        "    self.evaluation = evaluation\n",
        "    if self.evaluation >=4:\n",
        "      print('Читатель советует журнал {} к прочтению.'.format(self.name,self.evaluation))\n",
        "    elif self.evaluation == 3:\n",
        "      print('Журнал {} имеет свои недочёты.'.format(self.name,self.evaluation))\n",
        "    else:\n",
        "      print('Журнал {} читателю не понравился.'.format(self.name,self.evaluation))\n",
        "  def __str__(self):\n",
        "    print('Название журнала: {} \\nГод выпуска журнала: {} \\nГлавный редактор: {} \\nНазвание издания: {}'.format(self.name, self.release, self.autor, self.izdanie))\n",
        "\n",
        "\n",
        "class Book(Izdanie):\n",
        "  def review(self, heroes, topic):\n",
        "    self.heroes = heroes\n",
        "    self.topic = topic\n",
        "    print('Герои книги {} : {} \\nТема книги: {}'.format(self.name,self.heroes,self.topic))\n",
        "  def reading(self,like):\n",
        "    self.like = like\n",
        "    if self.like ==  \"Да\":\n",
        "        print('Книга {} понравилась читателю'.format(self.name))\n",
        "    elif self.like == \"да\":\n",
        "       print('Книга {} понравилась читателю'.format(self.name))\n",
        "    elif self.like == \"Нет\":\n",
        "       print('Книга {} мне не понравилась'.format(self.name))\n",
        "    elif self.like == \"нет\":\n",
        "       print('Книга {} не понравилась читателю'.format(self.name))\n",
        "    else:\n",
        "        print('Читатель не может сказать ничего конкретного по поводу книги {}'.format(self.name))  \n",
        "  def __str__(self):\n",
        "    print('Название книги: {} \\nГод написания книги: {} \\nАвтор книги: {} \\nНазвание издания: {}'.format(self.name, self.release, self.autor, self.izdanie))\n",
        "\n",
        "\n",
        "class Textbook(Book):\n",
        "    def details(self,Object):\n",
        "      self.Object = Object\n",
        "      print('Перед нами учебник по предмету {}'.format(self.Object))  \n",
        "    def __str__(self):\n",
        "      print('Название учебника: {} \\nГод написания учебника: {} \\nАвтор учебника: {} \\nНазвание издания: {}'.format(self.name, self.release, self.autor, self.izdanie))\n",
        "  \n",
        "    \n",
        "b = Magazine('Vogue Russia', '2021', 'Ксения Соловьёва')\n",
        "b.presentation()\n",
        "b.__str__()\n",
        "b.details('Мода', 'Ирина Шейк')\n",
        "b.reading(int(input('Оцените журнал от 1 до 5: '))) \n",
        "\n",
        "\n",
        "m = Textbook('Enjoy English','2020','Биболетова')\n",
        "m.presentation()\n",
        "m.__str__()  \n",
        "m.details(input('Укажите по какому предмету учебник: '))\n",
        "m.reading(input('\"Вам понравилась книга? (Да/Нет) - ')) \n",
        "\n",
        "d = Book('Старуха Изергиль', '1894', 'М.Горький')\n",
        "d.presentation()\n",
        "d.__str__()\n",
        "d.review('Данко, Старуха Изергиль', 'самопожертвование и эгоизм')\n",
        "d.reading(input(\"Вам понравилась книга? (Да/Нет) - \"))"
      ],
      "execution_count": null,
      "outputs": [
        {
          "output_type": "stream",
          "name": "stdout",
          "text": [
            "А вот и продукция нашего издания Crystall\n",
            "Название журнала: Vogue Russia \n",
            "Год выпуска журнала: 2021 \n",
            "Главный редактор: Ксения Соловьёва \n",
            "Название издания: Crystall\n",
            "Тема выпуска: Мода Лицо журнала: Ирина Шейк\n",
            "Оцените журнал от 1 до 5: 3\n",
            "Журнал Vogue Russia имеет свои недочёты.\n",
            "А вот и продукция нашего издания Crystall\n",
            "Название учебника: Enjoy English \n",
            "Год написания учебника: 2020 \n",
            "Автор учебника: Биболетова \n",
            "Название издания: Crystall\n",
            "Укажите по какому предмету учебник: английский язык\n",
            "Перед нами учебник по предмету английский язык\n",
            "\"Вам понравилась книга? (Да/Нет) - да\n",
            "Книга Enjoy English понравилась читателю\n",
            "А вот и продукция нашего издания Crystall\n",
            "Название книги: Старуха Изергиль \n",
            "Год написания книги: 1894 \n",
            "Автор книги: М.Горький \n",
            "Название издания: Crystall\n",
            "Герои книги Старуха Изергиль : Данко, Старуха Изергиль \n",
            "Тема книги: самопожертвование и эгоизм\n",
            "Вам понравилась книга? (Да/Нет) - да\n",
            "Книга Старуха Изергиль понравилась читателю\n"
          ]
        }
      ]
    }
  ]
}